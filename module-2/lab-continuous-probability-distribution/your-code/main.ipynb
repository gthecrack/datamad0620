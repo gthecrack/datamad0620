{
 "cells": [
  {
   "cell_type": "markdown",
   "metadata": {},
   "source": [
    "# Before your start:\n",
    "\n",
    "    Read the README.md file\n",
    "    Comment as much as you can and use the resources (README.md file)\n",
    "    Happy learning!"
   ]
  },
  {
   "cell_type": "markdown",
   "metadata": {},
   "source": [
    "In this exercise, we  will generate random numbers from the continuous disributions we learned in the lesson. There are two ways to generate random numbers:\n",
    "\n",
    "1. Using the numpy library \n",
    "1. using the Scipy library \n",
    "\n",
    "Use either or both of the lbraries in this exercise."
   ]
  },
  {
   "cell_type": "code",
   "execution_count": 1,
   "metadata": {},
   "outputs": [],
   "source": [
    "import numpy as np\n",
    "import pandas as pd\n",
    "import matplotlib. pyplot as plt \n",
    "from scipy import stats"
   ]
  },
  {
   "cell_type": "markdown",
   "metadata": {},
   "source": [
    "## Uniform Distribution\n",
    "\n",
    "To generate uniform random numbers between any two given values using scipy, we can either use the following code or the code that we have\n",
    "discussed in class:"
   ]
  },
  {
   "cell_type": "code",
   "execution_count": 2,
   "metadata": {},
   "outputs": [
    {
     "name": "stdout",
     "output_type": "stream",
     "text": [
      "[2.46775649 2.78478347 2.371549   2.7689144  2.65674669 2.22562617\n",
      " 2.97594495 2.79124416 2.00283855 2.44182542]\n"
     ]
    }
   ],
   "source": [
    "from scipy.stats import uniform\n",
    "x = uniform.rvs(size=10)\n",
    "a = 2\n",
    "b = 3\n",
    "randoms  = a + (b-a)*x\n",
    "print(randoms)"
   ]
  },
  {
   "cell_type": "markdown",
   "metadata": {},
   "source": [
    "**Your task:**\n",
    "\n",
    "1. Based on the code above, write a function that generates uniformly distributed random numbers. There are several requirements for your function:\n",
    "    * It should accept 3 parameters: \n",
    "        * `bottom` - the lower boundary of the generated numbers\n",
    "        * `ceiling` - the upper boundary of the generated numbers\n",
    "        * `count` - how many numbers to generate\n",
    "    * It should return an array of uniformly distributed random numbers\n",
    "\n",
    "1. Call your function with 2 sets of params below:\n",
    "    * bottom=10, ceiling=15, count=100\n",
    "    * bottom=10, ceiling=60, count=1,000\n",
    "\n",
    "1. Plot the uniform distributions generated above using histograms, where x axis is the value and y axis is the count. Let the histogram's number of bins be 10.\n",
    "\n",
    "Your output should look like below:\n",
    "\n",
    "![uniform distribution](ud.png)"
   ]
  },
  {
   "cell_type": "code",
   "execution_count": 13,
   "metadata": {},
   "outputs": [],
   "source": [
    "# your code here\n",
    "def dist_rand_nums(bottom, ceiling, count):\n",
    "    bot_lim = bottom\n",
    "    top_lim = ceiling\n",
    "    x = uniform.rvs(size=count)\n",
    "    return bot_lim + (top_lim-bot_lim)*x\n"
   ]
  },
  {
   "cell_type": "code",
   "execution_count": 14,
   "metadata": {},
   "outputs": [],
   "source": [
    "d1=dist_rand_nums(10 ,15, 100)\n",
    "d2=dist_rand_nums(10 ,60, 1000)"
   ]
  },
  {
   "cell_type": "code",
   "execution_count": 15,
   "metadata": {},
   "outputs": [
    {
     "data": {
      "text/plain": [
       "(array([ 93., 103.,  90., 101., 105.,  95.,  95.,  95., 114., 109.]),\n",
       " array([10.05653281, 15.05061757, 20.04470232, 25.03878708, 30.03287184,\n",
       "        35.0269566 , 40.02104135, 45.01512611, 50.00921087, 55.00329563,\n",
       "        59.99738038]),\n",
       " <a list of 10 Patch objects>)"
      ]
     },
     "execution_count": 15,
     "metadata": {},
     "output_type": "execute_result"
    },
    {
     "data": {
      "image/png": "[encoded data removed]",
      "text/plain": [
       "<Figure size 720x216 with 2 Axes>"
      ]
     },
     "metadata": {
      "needs_background": "light"
     },
     "output_type": "display_data"
    }
   ],
   "source": [
    "fig = plt.figure(figsize=(10,3))\n",
    "\n",
    "plt.subplot(121)\n",
    "plt.hist(d1, bins=10)\n",
    "\n",
    "plt.subplot(122)\n",
    "plt.hist(d2, bins=10)"
   ]
  },
  {
   "cell_type": "markdown",
   "metadata": {},
   "source": [
    "How are the two distributions different?\n",
    "\n",
    "The higher number of occurrences the smoother shape that the distribution will get, meaning it gets closer to the shape of the ideal theoretical distribution"
   ]
  },
  {
   "cell_type": "markdown",
   "metadata": {},
   "source": [
    "## Normal Distribution\n",
    "\n",
    "1. In the same way in the Uniform Distribution challenge, write a function that generates normally distributed random numbers.\n",
    "1. Generate 1,000 normally distributed numbers with the average of 10 and standard deviation of 1\n",
    "1. Generate 1,000 normally distributed numbers with the average of 10 and standard deviation of 50\n",
    "2. Plot the distributions of the data generated.\n",
    "\n",
    "Expected output:\n",
    "\n",
    "![normal distribution](nd.png)"
   ]
  },
  {
   "cell_type": "code",
   "execution_count": 16,
   "metadata": {},
   "outputs": [],
   "source": [
    "# your code here\n",
    "d1=np.random.normal(loc=10, scale=1, size=1000)\n",
    "d2=np.random.normal(loc=10, scale=50,size=1000)"
   ]
  },
  {
   "cell_type": "code",
   "execution_count": 18,
   "metadata": {},
   "outputs": [
    {
     "data": {
      "text/plain": [
       "(array([  3.,   1.,   4.,  12.,  25.,  39.,  61.,  82.,  98., 115., 125.,\n",
       "        101.,  94.,  92.,  67.,  28.,  31.,  14.,   6.,   2.]),\n",
       " array([-156.10694202, -140.52991825, -124.95289448, -109.37587071,\n",
       "         -93.79884694,  -78.22182318,  -62.64479941,  -47.06777564,\n",
       "         -31.49075187,  -15.9137281 ,   -0.33670434,   15.24031943,\n",
       "          30.8173432 ,   46.39436697,   61.97139074,   77.5484145 ,\n",
       "          93.12543827,  108.70246204,  124.27948581,  139.85650958,\n",
       "         155.43353334]),\n",
       " <a list of 20 Patch objects>)"
      ]
     },
     "execution_count": 18,
     "metadata": {},
     "output_type": "execute_result"
    },
    {
     "data": {
      "image/png": "[encoded data removed]",
      "text/plain": [
       "<Figure size 720x216 with 2 Axes>"
      ]
     },
     "metadata": {
      "needs_background": "light"
     },
     "output_type": "display_data"
    }
   ],
   "source": [
    "fig = plt.figure(figsize=(10,3)) #cm\n",
    "\n",
    "plt.subplot(121)\n",
    "plt.hist(d1, bins=20)\n",
    "\n",
    "plt.subplot(122)\n",
    "plt.hist(d2, bins=20)"
   ]
  },
  {
   "cell_type": "markdown",
   "metadata": {},
   "source": [
    "How are the two distributions different?\n",
    "\n",
    "Having a higher standard deviation means that more values will be further from the mean. If the value of the standard dev is small (ie first graph) most of the values gather round the mean value."
   ]
  },
  {
   "cell_type": "markdown",
   "metadata": {},
   "source": [
    "## Normal Distribution of Real Data\n",
    "\n",
    "In this challenge we are going to take a look the real data. We will use vehicles.csv file for this exercise"
   ]
  },
  {
   "cell_type": "markdown",
   "metadata": {},
   "source": [
    "First import vehicles.csv.\n",
    "Then plot the histograms for the following variables:\n",
    "\n",
    "1. Fuel Barrels/Year"
   ]
  },
  {
   "cell_type": "code",
   "execution_count": 19,
   "metadata": {},
   "outputs": [],
   "source": [
    "df = pd.read_csv('vehicles.csv')"
   ]
  },
  {
   "cell_type": "code",
   "execution_count": 20,
   "metadata": {},
   "outputs": [
    {
     "data": {
      "text/plain": [
       "(array([6.300e+01, 5.000e+00, 1.300e+01, 1.800e+01, 1.000e+02, 2.560e+02,\n",
       "        1.060e+03, 1.833e+03, 3.872e+03, 7.168e+03, 3.111e+03, 6.760e+03,\n",
       "        2.387e+03, 4.501e+03, 2.078e+03, 8.600e+01, 1.275e+03, 7.350e+02,\n",
       "        0.000e+00, 4.390e+02, 1.300e+02, 0.000e+00, 0.000e+00, 3.600e+01,\n",
       "        0.000e+00, 0.000e+00, 2.100e+01, 0.000e+00, 0.000e+00, 5.000e+00]),\n",
       " array([ 0.06      ,  1.62757143,  3.19514286,  4.76271429,  6.33028571,\n",
       "         7.89785714,  9.46542857, 11.033     , 12.60057143, 14.16814286,\n",
       "        15.73571429, 17.30328571, 18.87085714, 20.43842857, 22.006     ,\n",
       "        23.57357143, 25.14114286, 26.70871429, 28.27628571, 29.84385714,\n",
       "        31.41142857, 32.979     , 34.54657143, 36.11414286, 37.68171429,\n",
       "        39.24928571, 40.81685714, 42.38442857, 43.952     , 45.51957143,\n",
       "        47.08714286]),\n",
       " <a list of 30 Patch objects>)"
      ]
     },
     "execution_count": 20,
     "metadata": {},
     "output_type": "execute_result"
    },
    {
     "data": {
      "image/png": "[encoded data removed]",
      "text/plain": [
       "<Figure size 432x288 with 1 Axes>"
      ]
     },
     "metadata": {
      "needs_background": "light"
     },
     "output_type": "display_data"
    }
   ],
   "source": [
    "# your code here\n",
    "plt.hist(df['Fuel Barrels/Year'], bins=30)"
   ]
  },
  {
   "cell_type": "markdown",
   "metadata": {},
   "source": [
    "2. CO2 Emission Grams/Mile "
   ]
  },
  {
   "cell_type": "code",
   "execution_count": 21,
   "metadata": {},
   "outputs": [
    {
     "data": {
      "text/plain": [
       "(array([5.000e+00, 1.200e+01, 1.700e+01, 6.200e+01, 2.120e+02, 5.580e+02,\n",
       "        1.835e+03, 2.971e+03, 5.399e+03, 6.280e+03, 3.538e+03, 5.593e+03,\n",
       "        2.424e+03, 2.368e+03, 2.033e+03, 1.250e+03, 5.000e+01, 7.100e+02,\n",
       "        4.430e+02, 3.000e+00, 1.270e+02, 0.000e+00, 0.000e+00, 3.600e+01,\n",
       "        0.000e+00, 0.000e+00, 2.100e+01, 0.000e+00, 0.000e+00, 5.000e+00]),\n",
       " array([  37.        ,   78.08571429,  119.17142857,  160.25714286,\n",
       "         201.34285714,  242.42857143,  283.51428571,  324.6       ,\n",
       "         365.68571429,  406.77142857,  447.85714286,  488.94285714,\n",
       "         530.02857143,  571.11428571,  612.2       ,  653.28571429,\n",
       "         694.37142857,  735.45714286,  776.54285714,  817.62857143,\n",
       "         858.71428571,  899.8       ,  940.88571429,  981.97142857,\n",
       "        1023.05714286, 1064.14285714, 1105.22857143, 1146.31428571,\n",
       "        1187.4       , 1228.48571429, 1269.57142857]),\n",
       " <a list of 30 Patch objects>)"
      ]
     },
     "execution_count": 21,
     "metadata": {},
     "output_type": "execute_result"
    },
    {
     "data": {
      "image/png": "[encoded data removed]",
      "text/plain": [
       "<Figure size 432x288 with 1 Axes>"
      ]
     },
     "metadata": {
      "needs_background": "light"
     },
     "output_type": "display_data"
    }
   ],
   "source": [
    "# your code here\n",
    "plt.hist(df['CO2 Emission Grams/Mile'], bins=30)"
   ]
  },
  {
   "cell_type": "markdown",
   "metadata": {},
   "source": [
    "3. Combined MPG"
   ]
  },
  {
   "cell_type": "code",
   "execution_count": 22,
   "metadata": {},
   "outputs": [
    {
     "data": {
      "text/plain": [
       "(array([2.600e+01, 1.710e+02, 4.410e+02, 1.996e+03, 4.188e+03, 2.315e+03,\n",
       "        5.979e+03, 6.375e+03, 3.158e+03, 4.041e+03, 1.546e+03, 2.345e+03,\n",
       "        1.331e+03, 4.530e+02, 6.320e+02, 3.450e+02, 1.620e+02, 1.290e+02,\n",
       "        8.400e+01, 2.300e+01, 1.030e+02, 3.700e+01, 1.200e+01, 1.600e+01,\n",
       "        1.600e+01, 2.000e+00, 1.500e+01, 5.000e+00, 4.000e+00, 2.000e+00]),\n",
       " array([ 7.        ,  8.63333333, 10.26666667, 11.9       , 13.53333333,\n",
       "        15.16666667, 16.8       , 18.43333333, 20.06666667, 21.7       ,\n",
       "        23.33333333, 24.96666667, 26.6       , 28.23333333, 29.86666667,\n",
       "        31.5       , 33.13333333, 34.76666667, 36.4       , 38.03333333,\n",
       "        39.66666667, 41.3       , 42.93333333, 44.56666667, 46.2       ,\n",
       "        47.83333333, 49.46666667, 51.1       , 52.73333333, 54.36666667,\n",
       "        56.        ]),\n",
       " <a list of 30 Patch objects>)"
      ]
     },
     "execution_count": 22,
     "metadata": {},
     "output_type": "execute_result"
    },
    {
     "data": {
      "image/png": "[encoded data removed]",
      "text/plain": [
       "<Figure size 432x288 with 1 Axes>"
      ]
     },
     "metadata": {
      "needs_background": "light"
     },
     "output_type": "display_data"
    }
   ],
   "source": [
    "# your code here\n",
    "plt.hist(df['Combined MPG'], bins=30)"
   ]
  },
  {
   "cell_type": "markdown",
   "metadata": {},
   "source": [
    "Which one(s) of the variables are nearly normally distributed? How do you know?\n",
    "\n",
    "- The first graph referring to Fuel Barrels/Year is the one closer to a normal distribution.\n",
    "\n",
    "- Both other graphs hold a positive skewness in their distribution"
   ]
  },
  {
   "cell_type": "markdown",
   "metadata": {},
   "source": [
    "## Exponential Distribution"
   ]
  },
  {
   "cell_type": "markdown",
   "metadata": {},
   "source": [
    "1. Using `numpy.random.exponential`, create a function that returns a list of numbers exponentially distributed with the mean of 10. \n",
    "\n",
    "1. Use the function to generate two number sequences with the size of 10 and 100.\n",
    "\n",
    "1. Plot the distributions as histograms with the nubmer of bins as 100.\n",
    "\n",
    "Your output should look like below:\n",
    "\n",
    "![exponential distribution](ed.png)"
   ]
  },
  {
   "cell_type": "code",
   "execution_count": 27,
   "metadata": {},
   "outputs": [],
   "source": [
    "# your code here\n",
    "d1 = np.random.exponential(size=100)+10\n",
    "d2 = np.random.exponential(size=1000)+10"
   ]
  },
  {
   "cell_type": "code",
   "execution_count": 28,
   "metadata": {},
   "outputs": [
    {
     "data": {
      "text/plain": [
       "(array([78., 85., 76., 75., 50., 46., 48., 43., 41., 36., 24., 29., 29.,\n",
       "        28., 18., 28., 20., 25., 14., 13., 18., 12., 11., 13., 12.,  7.,\n",
       "        11.,  5., 12.,  3.,  3., 10.,  7.,  4.,  1.,  6.,  7.,  5.,  7.,\n",
       "         4.,  1.,  0.,  1.,  4.,  6.,  0.,  5.,  1.,  0.,  1.,  1.,  0.,\n",
       "         1.,  1.,  2.,  0.,  0.,  1.,  2.,  1.,  3.,  1.,  0.,  0.,  0.,\n",
       "         0.,  0.,  0.,  0.,  0.,  0.,  1.,  0.,  0.,  1.,  0.,  1.,  0.,\n",
       "         0.,  0.,  0.,  0.,  0.,  0.,  0.,  0.,  0.,  0.,  0.,  0.,  0.,\n",
       "         0.,  0.,  0.,  0.,  0.,  0.,  0.,  0.,  1.]),\n",
       " array([10.00249289, 10.0813354 , 10.16017792, 10.23902043, 10.31786294,\n",
       "        10.39670545, 10.47554796, 10.55439048, 10.63323299, 10.7120755 ,\n",
       "        10.79091801, 10.86976052, 10.94860303, 11.02744555, 11.10628806,\n",
       "        11.18513057, 11.26397308, 11.34281559, 11.42165811, 11.50050062,\n",
       "        11.57934313, 11.65818564, 11.73702815, 11.81587067, 11.89471318,\n",
       "        11.97355569, 12.0523982 , 12.13124071, 12.21008323, 12.28892574,\n",
       "        12.36776825, 12.44661076, 12.52545327, 12.60429579, 12.6831383 ,\n",
       "        12.76198081, 12.84082332, 12.91966583, 12.99850834, 13.07735086,\n",
       "        13.15619337, 13.23503588, 13.31387839, 13.3927209 , 13.47156342,\n",
       "        13.55040593, 13.62924844, 13.70809095, 13.78693346, 13.86577598,\n",
       "        13.94461849, 14.023461  , 14.10230351, 14.18114602, 14.25998854,\n",
       "        14.33883105, 14.41767356, 14.49651607, 14.57535858, 14.6542011 ,\n",
       "        14.73304361, 14.81188612, 14.89072863, 14.96957114, 15.04841365,\n",
       "        15.12725617, 15.20609868, 15.28494119, 15.3637837 , 15.44262621,\n",
       "        15.52146873, 15.60031124, 15.67915375, 15.75799626, 15.83683877,\n",
       "        15.91568129, 15.9945238 , 16.07336631, 16.15220882, 16.23105133,\n",
       "        16.30989385, 16.38873636, 16.46757887, 16.54642138, 16.62526389,\n",
       "        16.70410641, 16.78294892, 16.86179143, 16.94063394, 17.01947645,\n",
       "        17.09831896, 17.17716148, 17.25600399, 17.3348465 , 17.41368901,\n",
       "        17.49253152, 17.57137404, 17.65021655, 17.72905906, 17.80790157,\n",
       "        17.88674408]),\n",
       " <a list of 100 Patch objects>)"
      ]
     },
     "execution_count": 28,
     "metadata": {},
     "output_type": "execute_result"
    },
    {
     "data": {
      "image/png": "[encoded data removed]",
      "text/plain": [
       "<Figure size 720x216 with 2 Axes>"
      ]
     },
     "metadata": {
      "needs_background": "light"
     },
     "output_type": "display_data"
    }
   ],
   "source": [
    "fig = plt.figure(figsize=(10,3)) #cm\n",
    "\n",
    "plt.subplot(121)\n",
    "plt.hist(d1, bins=100)\n",
    "\n",
    "plt.subplot(122)\n",
    "plt.hist(d2, bins=100)"
   ]
  },
  {
   "cell_type": "markdown",
   "metadata": {},
   "source": [
    "How are the two distributions different?\n",
    "\n",
    "As we've seen before, the number of elements of the sample is important to get an accurate distribution closer to the theoretical value we want to obtain. A higher number of ocurrences improve the shape of the distribution."
   ]
  },
  {
   "cell_type": "markdown",
   "metadata": {},
   "source": [
    "## Exponential Distribution of Real Data\n",
    "\n",
    "Suppose that the amount of time one spends in a bank is exponentially distributed with mean as 10 minutes (i.e. λ = 1/10). What is the probability that a customer will spend less than fifteen minutes in the bank? \n",
    "\n",
    "Write a code in python to solve this problem"
   ]
  },
  {
   "cell_type": "code",
   "execution_count": 29,
   "metadata": {},
   "outputs": [],
   "source": [
    "# your answer here\n",
    "# Hint: This is same as saying P(x<15)\n",
    "lambdda = 1/10\n",
    "minutes = 15"
   ]
  },
  {
   "cell_type": "markdown",
   "metadata": {},
   "source": [
    "What is the probability that the customer will spend more than 15 minutes"
   ]
  },
  {
   "cell_type": "code",
   "execution_count": 40,
   "metadata": {},
   "outputs": [
    {
     "data": {
      "text/plain": [
       "0.7768698398515702"
      ]
     },
     "execution_count": 40,
     "metadata": {},
     "output_type": "execute_result"
    }
   ],
   "source": [
    "prob = 1 - np.exp(-lambdda*x)\n",
    "prob"
   ]
  },
  {
   "cell_type": "code",
   "execution_count": 41,
   "metadata": {},
   "outputs": [
    {
     "data": {
      "text/plain": [
       "0.2231301601484298"
      ]
     },
     "execution_count": 41,
     "metadata": {},
     "output_type": "execute_result"
    }
   ],
   "source": [
    "1 - prob"
   ]
  },
  {
   "cell_type": "markdown",
   "metadata": {},
   "source": [
    "The probability calculated refers to the probability that the customer will spend less than 15 min in the bank. Therefore, the probability that the customer spends more than 15 min is 1-prob which is roughly 0.223"
   ]
  }
 ],
 "metadata": {
  "kernelspec": {
   "display_name": "Python 3",
   "language": "python",
   "name": "python3"
  },
  "language_info": {
   "codemirror_mode": {
    "name": "ipython",
    "version": 3
   },
   "file_extension": ".py",
   "mimetype": "text/x-python",
   "name": "python",
   "nbconvert_exporter": "python",
   "pygments_lexer": "ipython3",
   "version": "3.8.3"
  }
 },
 "nbformat": 4,
 "nbformat_minor": 2
}
