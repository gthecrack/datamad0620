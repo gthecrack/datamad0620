{
 "cells": [
  {
   "cell_type": "markdown",
   "metadata": {},
   "source": [
    "# Advanced Querying Mongo"
   ]
  },
  {
   "cell_type": "markdown",
   "metadata": {},
   "source": [
    "Importing libraries and setting up connection"
   ]
  },
  {
   "cell_type": "code",
   "execution_count": 17,
   "metadata": {},
   "outputs": [
    {
     "name": "stdout",
     "output_type": "stream",
     "text": [
      "Requirement already satisfied: pymongo in c:\\users\\user\\appdata\\local\\programs\\python\\python38-32\\lib\\site-packages (3.10.1)\n"
     ]
    }
   ],
   "source": [
    "!pip3 install pymongo"
   ]
  },
  {
   "cell_type": "code",
   "execution_count": 33,
   "metadata": {},
   "outputs": [
    {
     "name": "stdout",
     "output_type": "stream",
     "text": [
      "mongodb://localhost/companies\n",
      "MongoClient(host=['localhost:27017'], document_class=dict, tz_aware=False, connect=True)\n",
      "Database(MongoClient(host=['localhost:27017'], document_class=dict, tz_aware=False, connect=True), 'companies')\n",
      "<pymongo.command_cursor.CommandCursor object at 0x015D2910>\n",
      "{'name': 'companies', 'type': 'collection', 'options': {}, 'info': {'readOnly': False, 'uuid': UUID('66f0fe67-0302-4902-95b5-aabc2b0ca759')}, 'idIndex': {'v': 2, 'key': {'_id': 1}, 'name': '_id_', 'ns': 'companies.companies'}}\n"
     ]
    }
   ],
   "source": [
    "from pymongo import MongoClient\n",
    "from pymongo import ASCENDING, DESCENDING\n",
    "dbName = \"companies\"\n",
    "mongodbURL = f\"mongodb://localhost/{dbName}\"\n",
    "print(mongodbURL)\n",
    "client = MongoClient(mongodbURL)\n",
    "print(client)\n",
    "db = client.get_database()\n",
    "print(db)\n",
    "cols = db.list_collections()\n",
    "print(cols)\n",
    "for x in cols:\n",
    "    print(x)"
   ]
  },
  {
   "cell_type": "code",
   "execution_count": 45,
   "metadata": {},
   "outputs": [
    {
     "data": {
      "text/plain": [
       "Collection(Database(MongoClient(host=['localhost:27017'], document_class=dict, tz_aware=False, connect=True), 'companies'), 'companies')"
      ]
     },
     "execution_count": 45,
     "metadata": {},
     "output_type": "execute_result"
    }
   ],
   "source": [
    "client.list_database_names()\n",
    "db.list_collection_names()\n",
    "collection = db['companies']\n",
    "collection "
   ]
  },
  {
   "cell_type": "markdown",
   "metadata": {},
   "source": [
    "### 1. All the companies whose name match 'Babelgum'. Retrieve only their `name` field."
   ]
  },
  {
   "cell_type": "code",
   "execution_count": 70,
   "metadata": {},
   "outputs": [
    {
     "name": "stdout",
     "output_type": "stream",
     "text": [
      "[{'name': 'Babelgum'}]\n"
     ]
    }
   ],
   "source": [
    "# Your Code\n",
    "company = list(db.companies.find({\"name\":'Babelgum'}, {\"name\":1, \"_id\":0}))\n",
    "print(company)"
   ]
  },
  {
   "cell_type": "markdown",
   "metadata": {},
   "source": [
    "### 2. All the companies that have more than 5000 employees. Limit the search to 20 companies and sort them by **number of employees**."
   ]
  },
  {
   "cell_type": "code",
   "execution_count": 62,
   "metadata": {},
   "outputs": [
    {
     "name": "stdout",
     "output_type": "stream",
     "text": [
      "Siemens 405000\n",
      "IBM 388000\n",
      "Toyota 320000\n",
      "PayPal 300000\n",
      "Nippon Telegraph and Telephone Corporation 227000\n",
      "Samsung Electronics 221726\n",
      "Accenture 205000\n",
      "Tata Consultancy Services 200300\n",
      "Flextronics International 200000\n",
      "Safeway 186000\n",
      "Sony 180500\n",
      "LG 177000\n",
      "Ford 171000\n",
      "Boeing 160000\n",
      "Digital Equipment Corporation 140000\n",
      "Nokia 125000\n",
      "MItsubishi Electric 107000\n",
      "MItsubishi Electric 107000\n",
      "Comcast 100000\n",
      "Bertelsmann 100000\n"
     ]
    }
   ],
   "source": [
    "# Your Code\n",
    "query = {\"number_of_employees\": {\"$gt\": 5000}}\n",
    "employees = (list(db.companies.find(query, {\"name\":1, \"number_of_employees\":1}).sort([(\"number_of_employees\", DESCENDING)]).limit(20)))\n",
    "for element in employees:\n",
    "    print(element[\"name\"], element[\"number_of_employees\"])"
   ]
  },
  {
   "cell_type": "markdown",
   "metadata": {},
   "source": [
    "### 3. All the companies founded between 2000 and 2005, both years included. Retrieve only the `name` and `founded_year` fields."
   ]
  },
  {
   "cell_type": "code",
   "execution_count": 116,
   "metadata": {},
   "outputs": [
    {
     "name": "stdout",
     "output_type": "stream",
     "text": [
      "2252\n"
     ]
    }
   ],
   "source": [
    "# Your Code\n",
    "query2 = {\"$and\":[{\"founded_year\":{\"$gt\":2000}},\n",
    "                 {\"founded_year\": {\"$lt\":2005}}\n",
    "                ]\n",
    "}\n",
    "c_years = (list(db.companies.find(query2, {\"name\":1, \"founded_year\":1})))\n",
    "print(len(c_years))\n",
    "#for element in c_years:\n",
    "    #print(f'Name of the company: {element[\"name\"]}, founded: {element[\"founded_year\"]}')"
   ]
  },
  {
   "cell_type": "markdown",
   "metadata": {},
   "source": [
    "### 4. All the companies that had a Valuation Amount of more than 100.000.000 and have been founded before 2010. Retrieve only the `name` and `ipo` fields."
   ]
  },
  {
   "cell_type": "code",
   "execution_count": 103,
   "metadata": {},
   "outputs": [
    {
     "name": "stdout",
     "output_type": "stream",
     "text": [
      "Name of the company: Twitter, ipo: {'valuation_amount': 18100000000}\n",
      "Name of the company: Facebook, ipo: {'valuation_amount': 104000000000}\n",
      "Name of the company: Yelp, ipo: {'valuation_amount': 1300000000}\n",
      "Name of the company: LinkedIn, ipo: {'valuation_amount': 9310000000}\n",
      "Name of the company: Brightcove, ipo: {'valuation_amount': 290000000}\n",
      "Name of the company: Amazon, ipo: {'valuation_amount': 100000000000}\n",
      "Name of the company: KIT digital, ipo: {'valuation_amount': 235000000}\n",
      "Name of the company: Nielsen, ipo: {'valuation_amount': 1600000000}\n",
      "Name of the company: OpenTable, ipo: {'valuation_amount': 1050000000}\n",
      "Name of the company: ChannelAdvisor, ipo: {'valuation_amount': 287000000}\n",
      "Name of the company: Jive Software, ipo: {'valuation_amount': 1000000000}\n",
      "Name of the company: Zillow, ipo: {'valuation_amount': 2550000000}\n",
      "Name of the company: Wix, ipo: {'valuation_amount': 750000000}\n",
      "Name of the company: Shutterfly, ipo: {'valuation_amount': 350000000}\n",
      "Name of the company: TripAdvisor, ipo: {'valuation_amount': 3273770000}\n",
      "Name of the company: Salesforce, ipo: {'valuation_amount': 110000000}\n",
      "Name of the company: HomeAway, ipo: {'valuation_amount': 3000000000}\n",
      "Name of the company: QuinStreet, ipo: {'valuation_amount': 140000000}\n",
      "Name of the company: Rackspace, ipo: {'valuation_amount': 5440000000}\n",
      "Name of the company: BMC Software, ipo: {'valuation_amount': 6000000000}\n",
      "Name of the company: Higher One, ipo: {'valuation_amount': 1060000000}\n",
      "Name of the company: Infoblox, ipo: {'valuation_amount': 824000000}\n",
      "Name of the company: Tencent, ipo: {'valuation_amount': 11000000000}\n",
      "Name of the company: Marketo, ipo: {'valuation_amount': 465000000}\n",
      "Name of the company: Baidu, ipo: {'valuation_amount': 4000000000}\n",
      "Name of the company: Geeknet, ipo: {'valuation_amount': 134000000}\n",
      "Name of the company: Opsware, ipo: {'valuation_amount': 450000000}\n",
      "Name of the company: Telenav, ipo: {'valuation_amount': 337000000}\n",
      "Name of the company: BrightSource Energy, ipo: {'valuation_amount': 1000000000}\n",
      "Name of the company: Rally Software, ipo: {'valuation_amount': 315000000}\n",
      "Name of the company: Mixi, ipo: {'valuation_amount': 970000000}\n",
      "Name of the company: QlikTech, ipo: {'valuation_amount': 1000000000}\n",
      "Name of the company: Chegg, ipo: {'valuation_amount': 1100000000}\n",
      "Name of the company: Chegg, ipo: {'valuation_amount': 1100000000}\n",
      "Name of the company: Groupon, ipo: {'valuation_amount': 12800000000}\n",
      "Name of the company: SolarWinds, ipo: {'valuation_amount': 803000000}\n",
      "Name of the company: GREE, ipo: {'valuation_amount': 108960000000}\n",
      "Name of the company: Tudou, ipo: {'valuation_amount': 174000000}\n",
      "Name of the company: DemandTec, ipo: {'valuation_amount': 245000000}\n",
      "Name of the company: Cornerstone OnDemand, ipo: {'valuation_amount': 900000000}\n",
      "Name of the company: Western Digital, ipo: {'valuation_amount': 9430000000}\n",
      "Name of the company: Millennial Media, ipo: {'valuation_amount': 973500000}\n"
     ]
    }
   ],
   "source": [
    "# Your Code\n",
    "query3 = {\"$and\":[{\"ipo.valuation_amount\": {\"$gt\":100000000}}, {\"founded_year\": {\"$lt\":2010}}]}\n",
    "valuation = (list(db.companies.find(query3, {\"name\":1, \"ipo.valuation_amount\":1})))\n",
    "for element in valuation:\n",
    "    print(f'Name of the company: {element[\"name\"]}, ipo: {element[\"ipo\"]}')\n"
   ]
  },
  {
   "cell_type": "markdown",
   "metadata": {},
   "source": [
    "### 5. All the companies that have less than 1000 employees and have been founded before 2005. Order them by the number of employees and limit the search to 10 companies."
   ]
  },
  {
   "cell_type": "code",
   "execution_count": 105,
   "metadata": {},
   "outputs": [
    {
     "name": "stdout",
     "output_type": "stream",
     "text": [
      "Name of the company: Fox Interactive Media\n",
      "Name of the company: Skype\n",
      "Name of the company: Ticketmaster\n",
      "Name of the company: stylediary\n",
      "Name of the company: MindTouch\n",
      "Name of the company: Simpy\n",
      "Name of the company: Eurekster\n",
      "Name of the company: Compete\n",
      "Name of the company: EditGrid\n",
      "Name of the company: Monster\n"
     ]
    }
   ],
   "source": [
    "# Your Code\n",
    "query4 = {\"$and\":[{\"number_of_employees\": {\"$lt\":1000}}, {\"founded_year\": {\"$lt\":2005}}]}\n",
    "results = (list(db.companies.find(query4, {\"name\":1}).sort([(\"number_of_employees\", ASCENDING)]).limit(10)))\n",
    "for element in results:\n",
    "    print(f'Name of the company: {element[\"name\"]}')"
   ]
  },
  {
   "cell_type": "code",
   "execution_count": 106,
   "metadata": {
    "scrolled": true
   },
   "outputs": [
    {
     "name": "stdout",
     "output_type": "stream",
     "text": [
      "Name of the company: Infinera Corporation\n",
      "Name of the company: NorthPoint Communications Group\n",
      "Name of the company: 888 Holdings\n",
      "Name of the company: Forrester Research\n",
      "Name of the company: SonicWALL\n",
      "Name of the company: Webmetrics\n",
      "Name of the company: Cornerstone OnDemand\n",
      "Name of the company: Yelp\n",
      "Name of the company: ZoomInfo\n",
      "Name of the company: MySpace\n"
     ]
    }
   ],
   "source": [
    "query4 = {\"$and\":[{\"number_of_employees\": {\"$lt\":1000}}, {\"founded_year\": {\"$lt\":2005}}]}\n",
    "results = (list(db.companies.find(query4, {\"name\":1}).sort([(\"number_of_employees\", DESCENDING)]).limit(10)))\n",
    "for element in results:\n",
    "    print(f'Name of the company: {element[\"name\"]}')"
   ]
  },
  {
   "cell_type": "markdown",
   "metadata": {},
   "source": [
    "### 6. All the companies that don't include the `partners` field."
   ]
  },
  {
   "cell_type": "code",
   "execution_count": 111,
   "metadata": {},
   "outputs": [
    {
     "name": "stdout",
     "output_type": "stream",
     "text": [
      "0\n"
     ]
    }
   ],
   "source": [
    "# Your Code\n",
    "query5 = {\"partners\":{\"$exists\":False}}\n",
    "partners = (list(db.companies.find(query5, {\"name\":1})))\n",
    "for element in result:\n",
    "    print(f'Name of the company: {element[\"name\"]}')\n",
    "print(len(partners))"
   ]
  },
  {
   "cell_type": "markdown",
   "metadata": {},
   "source": [
    "### 7. All the companies that have a null type of value on the `category_code` field."
   ]
  },
  {
   "cell_type": "code",
   "execution_count": 117,
   "metadata": {},
   "outputs": [
    {
     "name": "stdout",
     "output_type": "stream",
     "text": [
      "2751\n"
     ]
    }
   ],
   "source": [
    "# Your Code\n",
    "query6 = {\"category_code\": None}\n",
    "cat_cod = (list(db.companies.find(query6, {\"name\":1})))\n",
    "print(len(cat_cod))\n",
    "#for element in cat_cod:\n",
    " #   print(f'Name of the company: {element[\"name\"]}')"
   ]
  },
  {
   "cell_type": "markdown",
   "metadata": {},
   "source": [
    "### 8. All the companies that have at least 100 employees but less than 1000. Retrieve only the `name` and `number of employees` fields."
   ]
  },
  {
   "cell_type": "code",
   "execution_count": 128,
   "metadata": {},
   "outputs": [
    {
     "name": "stdout",
     "output_type": "stream",
     "text": [
      "753\n"
     ]
    }
   ],
   "source": [
    "# Your Code\n",
    "query7 = {\"$and\":[{\"number_of_employees\": {\"$gt\":100}}, {\"number_of_employees\": {\"$lt\":1000}}]}\n",
    "employees2 = (list(db.companies.find(query7, {\"name\":1, \"number_of_employees\":1})))\n",
    "#for element in employees2:\n",
    " #   print(element[\"name\"], element[\"number_of_employees\"])\n",
    "print(len(employees2))"
   ]
  },
  {
   "cell_type": "markdown",
   "metadata": {},
   "source": [
    "### 9. Order all the companies by their IPO price in a descending order."
   ]
  },
  {
   "cell_type": "code",
   "execution_count": 129,
   "metadata": {},
   "outputs": [
    {
     "name": "stdout",
     "output_type": "stream",
     "text": [
      "GREE\n",
      "Facebook\n",
      "Amazon\n",
      "Twitter\n",
      "Groupon\n"
     ]
    }
   ],
   "source": [
    "# Your Code\n",
    "sorted_companies_ipo = list(db.companies.find().sort([(\"ipo\",DESCENDING)]).limit(5))\n",
    "for element in sorted_companies_ipo:\n",
    "    print(element[\"name\"])"
   ]
  },
  {
   "cell_type": "markdown",
   "metadata": {},
   "source": [
    "### 10. Retrieve the 10 companies with more employees, order by the `number of employees`"
   ]
  },
  {
   "cell_type": "code",
   "execution_count": 130,
   "metadata": {},
   "outputs": [
    {
     "name": "stdout",
     "output_type": "stream",
     "text": [
      "Siemens\n",
      "IBM\n",
      "Toyota\n",
      "PayPal\n",
      "Nippon Telegraph and Telephone Corporation\n",
      "Samsung Electronics\n",
      "Accenture\n",
      "Tata Consultancy Services\n",
      "Flextronics International\n",
      "Safeway\n"
     ]
    }
   ],
   "source": [
    "# Your Code\n",
    "ten_companies = list(db.companies.find().sort([(\"number_of_employees\", DESCENDING)]).limit(10))\n",
    "for element in ten_companies:\n",
    "    print(element[\"name\"])"
   ]
  },
  {
   "cell_type": "markdown",
   "metadata": {},
   "source": [
    "### 11. All the companies founded on the second semester of the year. Limit your search to 1000 companies."
   ]
  },
  {
   "cell_type": "code",
   "execution_count": 143,
   "metadata": {},
   "outputs": [
    {
     "name": "stdout",
     "output_type": "stream",
     "text": [
      "3329\n"
     ]
    }
   ],
   "source": [
    "# Your Code\n",
    "query8 = {\"founded_month\": {\"$gte\": 7}}\n",
    "semester = (list(db.companies.find(query8, {\"name\":1})))\n",
    "# can add .limit(1000)\n",
    "#for element in semester:\n",
    "#    print(element['name'])\n",
    "print(len(semester))"
   ]
  },
  {
   "cell_type": "markdown",
   "metadata": {},
   "source": [
    "### 12. All the companies founded before 2000 that have an acquisition amount of more than 10.000.00"
   ]
  },
  {
   "cell_type": "code",
   "execution_count": 144,
   "metadata": {},
   "outputs": [
    {
     "name": "stdout",
     "output_type": "stream",
     "text": [
      "225\n"
     ]
    }
   ],
   "source": [
    "# Your Code\n",
    "query9 = {\"$and\":[{\"founded_year\": {\"$lt\": 2000}}, {\"acquisition.price_amount\": {\"$gt\": 10000}}]}\n",
    "comps = (list(db.companies.find(query9)))\n",
    "#for element in comps:\n",
    "#    print(element['name'])\n",
    "print(len(comps))"
   ]
  },
  {
   "cell_type": "markdown",
   "metadata": {},
   "source": [
    "### 13. All the companies that have been acquired after 2010, order by the acquisition amount, and retrieve only their `name` and `acquisition` field."
   ]
  },
  {
   "cell_type": "code",
   "execution_count": 154,
   "metadata": {},
   "outputs": [
    {
     "name": "stdout",
     "output_type": "stream",
     "text": [
      "736\n"
     ]
    }
   ],
   "source": [
    "# Your Code\n",
    "query10 = {\"acquisition.acquired_year\": {\"$gt\": 2010}}\n",
    "acq = (list(db.companies.find(query10, {\"name\":1, \"acquisition\":1})\n",
    "                .sort([(\"acquisition.acquired_year\",ASCENDING)])))\n",
    "#for element in acq:\n",
    "#    print(element['name'],element['acquisition'])\n",
    "print(len(acq))"
   ]
  },
  {
   "cell_type": "markdown",
   "metadata": {},
   "source": [
    "### 14. Order the companies by their `founded year`, retrieving only their `name` and `founded year`."
   ]
  },
  {
   "cell_type": "code",
   "execution_count": 170,
   "metadata": {},
   "outputs": [],
   "source": [
    "# Your Code\n",
    "\n",
    "fourteen = (list(db.companies.find({},{\"name\":1, \"founded_year\":1}).sort([(\"founded_year\",DESCENDING)]).limit(1000)))\n",
    "#for element in fourteen:\n",
    "#    print(element['name'],element['founded_year'])"
   ]
  },
  {
   "cell_type": "markdown",
   "metadata": {},
   "source": [
    "### 15. All the companies that have been founded on the first seven days of the month, including the seventh. Sort them by their `acquisition price` in a descending order. Limit the search to 10 documents."
   ]
  },
  {
   "cell_type": "code",
   "execution_count": 177,
   "metadata": {},
   "outputs": [
    {
     "name": "stdout",
     "output_type": "stream",
     "text": [
      "Netscape\n",
      "PayPal\n",
      "Zappos\n",
      "Alibaba\n",
      "Postini\n",
      "Danger\n",
      "Clearwell Systems\n",
      "PrimeSense\n",
      "Amobee\n",
      "BlueLithium\n",
      "10\n"
     ]
    }
   ],
   "source": [
    "# Your Code\n",
    "query11 = {\"founded_day\": {\"$lte\": 7}}\n",
    "days = (list(db.companies.find(query11).sort([(\"acquisition.price_amount\",-1)]).limit(10)))\n",
    "for element in days:\n",
    "    print(element['name'])\n",
    "print(len(days))"
   ]
  },
  {
   "cell_type": "markdown",
   "metadata": {},
   "source": [
    "### 16. All the companies on the 'web' `category` that have more than 4000 employees. Sort them by the amount of employees in ascending order."
   ]
  },
  {
   "cell_type": "code",
   "execution_count": 179,
   "metadata": {},
   "outputs": [
    {
     "name": "stdout",
     "output_type": "stream",
     "text": [
      "Expedia\n",
      "AOL\n",
      "Webkinz\n",
      "Rakuten\n",
      "Los Angeles Times Media Group\n",
      "Groupon\n",
      "Yahoo!\n",
      "eBay\n",
      "Experian\n",
      "9\n"
     ]
    }
   ],
   "source": [
    "# Your Code\n",
    "query12 = {\"$and\":[{\"category_code\": \"web\"}, {\"number_of_employees\": {\"$gt\": 4000}}]}\n",
    "web = (list(db.companies.find(query12).sort([(\"number_of_employees\", ASCENDING)]).limit(10)))\n",
    "for element in web:\n",
    "    print(element['name'])\n",
    "print(len(web))"
   ]
  },
  {
   "cell_type": "markdown",
   "metadata": {},
   "source": [
    "### 17. All the companies whose acquisition amount is more than 10.000.000, and currency is 'EUR'."
   ]
  },
  {
   "cell_type": "code",
   "execution_count": 183,
   "metadata": {},
   "outputs": [
    {
     "name": "stdout",
     "output_type": "stream",
     "text": [
      "ZYB\n",
      "Apertio\n",
      "Greenfield Online\n",
      "Webedia\n",
      "Wayfinder\n",
      "Tuenti Technologies\n",
      "BioMed Central\n",
      "7\n"
     ]
    }
   ],
   "source": [
    "# Your Code\n",
    "query13 = {\"$and\":[{\"acquisition.price_currency_code\": \"EUR\"}, {\"acquisition.price_amount\": {\"$gt\": 10000000}}]}\n",
    "eur = (list(db.companies.find(query13).limit(1000)))\n",
    "for element in eur:\n",
    "    print(element['name'])\n",
    "print(len(eur))"
   ]
  },
  {
   "cell_type": "markdown",
   "metadata": {},
   "source": [
    "### 18. All the companies that have been acquired on the first trimester of the year. Limit the search to 10 companies, and retrieve only their `name` and `acquisition` fields."
   ]
  },
  {
   "cell_type": "code",
   "execution_count": 188,
   "metadata": {},
   "outputs": [
    {
     "name": "stdout",
     "output_type": "stream",
     "text": [
      "Kyte\n",
      "NetRatings\n",
      "blogTV\n",
      "Livestream\n",
      "iContact\n",
      "Coghead\n",
      "Dailymotion\n",
      "Netvibes\n",
      "Flickr\n",
      "BabyCenter\n",
      "10\n"
     ]
    }
   ],
   "source": [
    "# Your Code\n",
    "query14 = {\"acquisition.acquired_month\": {\"$lte\": 3}}\n",
    "trimester = (list(db.companies.find(query14, {\"name\":1}).limit(10)))\n",
    "for element in trimester:\n",
    "    print(element['name'])\n",
    "print(len(trimester))"
   ]
  },
  {
   "cell_type": "markdown",
   "metadata": {},
   "source": [
    "# Bonus\n",
    "### 19. All the companies that have been founded between 2000 and 2010, but have not been acquired before 2011."
   ]
  },
  {
   "cell_type": "code",
   "execution_count": null,
   "metadata": {},
   "outputs": [],
   "source": [
    "# Your Code"
   ]
  },
  {
   "cell_type": "markdown",
   "metadata": {},
   "source": [
    "### 20. All the companies that have been 'deadpooled' after the third year."
   ]
  },
  {
   "cell_type": "code",
   "execution_count": null,
   "metadata": {},
   "outputs": [],
   "source": [
    "# Your Code"
   ]
  }
 ],
 "metadata": {
  "kernelspec": {
   "display_name": "Python 3",
   "language": "python",
   "name": "python3"
  },
  "language_info": {
   "codemirror_mode": {
    "name": "ipython",
    "version": 3
   },
   "file_extension": ".py",
   "mimetype": "text/x-python",
   "name": "python",
   "nbconvert_exporter": "python",
   "pygments_lexer": "ipython3",
   "version": "3.8.3"
  }
 },
 "nbformat": 4,
 "nbformat_minor": 2
}
